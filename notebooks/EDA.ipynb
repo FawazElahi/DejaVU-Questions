{
 "cells": [
  {
   "cell_type": "code",
   "execution_count": null,
   "id": "66fe54ec",
   "metadata": {},
   "outputs": [],
   "source": [
    "import numpy as np \n",
    "import pandas as pd \n",
    "import matplotlib.pyplot as plt"
   ]
  },
  {
   "cell_type": "markdown",
   "id": "c4260a2b",
   "metadata": {},
   "source": [
    "exploratory data analysis \n"
   ]
  },
  {
   "cell_type": "markdown",
   "id": "b87af804",
   "metadata": {},
   "source": [
    "df = pd.read_csv('train.csv')\n",
    "df.shape"
   ]
  },
  {
   "cell_type": "code",
   "execution_count": 3,
   "id": "f27aad7b",
   "metadata": {},
   "outputs": [
    {
     "data": {
      "text/html": [
       "<div>\n",
       "<style scoped>\n",
       "    .dataframe tbody tr th:only-of-type {\n",
       "        vertical-align: middle;\n",
       "    }\n",
       "\n",
       "    .dataframe tbody tr th {\n",
       "        vertical-align: top;\n",
       "    }\n",
       "\n",
       "    .dataframe thead th {\n",
       "        text-align: right;\n",
       "    }\n",
       "</style>\n",
       "<table border=\"1\" class=\"dataframe\">\n",
       "  <thead>\n",
       "    <tr style=\"text-align: right;\">\n",
       "      <th></th>\n",
       "      <th>id</th>\n",
       "      <th>qid1</th>\n",
       "      <th>qid2</th>\n",
       "      <th>question1</th>\n",
       "      <th>question2</th>\n",
       "      <th>is_duplicate</th>\n",
       "    </tr>\n",
       "  </thead>\n",
       "  <tbody>\n",
       "    <tr>\n",
       "      <th>0</th>\n",
       "      <td>0</td>\n",
       "      <td>1</td>\n",
       "      <td>2</td>\n",
       "      <td>What is the step by step guide to invest in sh...</td>\n",
       "      <td>What is the step by step guide to invest in sh...</td>\n",
       "      <td>0</td>\n",
       "    </tr>\n",
       "    <tr>\n",
       "      <th>1</th>\n",
       "      <td>1</td>\n",
       "      <td>3</td>\n",
       "      <td>4</td>\n",
       "      <td>What is the story of Kohinoor (Koh-i-Noor) Dia...</td>\n",
       "      <td>What would happen if the Indian government sto...</td>\n",
       "      <td>0</td>\n",
       "    </tr>\n",
       "    <tr>\n",
       "      <th>2</th>\n",
       "      <td>2</td>\n",
       "      <td>5</td>\n",
       "      <td>6</td>\n",
       "      <td>How can I increase the speed of my internet co...</td>\n",
       "      <td>How can Internet speed be increased by hacking...</td>\n",
       "      <td>0</td>\n",
       "    </tr>\n",
       "    <tr>\n",
       "      <th>3</th>\n",
       "      <td>3</td>\n",
       "      <td>7</td>\n",
       "      <td>8</td>\n",
       "      <td>Why am I mentally very lonely? How can I solve...</td>\n",
       "      <td>Find the remainder when [math]23^{24}[/math] i...</td>\n",
       "      <td>0</td>\n",
       "    </tr>\n",
       "    <tr>\n",
       "      <th>4</th>\n",
       "      <td>4</td>\n",
       "      <td>9</td>\n",
       "      <td>10</td>\n",
       "      <td>Which one dissolve in water quikly sugar, salt...</td>\n",
       "      <td>Which fish would survive in salt water?</td>\n",
       "      <td>0</td>\n",
       "    </tr>\n",
       "  </tbody>\n",
       "</table>\n",
       "</div>"
      ],
      "text/plain": [
       "   id  qid1  qid2                                          question1  \\\n",
       "0   0     1     2  What is the step by step guide to invest in sh...   \n",
       "1   1     3     4  What is the story of Kohinoor (Koh-i-Noor) Dia...   \n",
       "2   2     5     6  How can I increase the speed of my internet co...   \n",
       "3   3     7     8  Why am I mentally very lonely? How can I solve...   \n",
       "4   4     9    10  Which one dissolve in water quikly sugar, salt...   \n",
       "\n",
       "                                           question2  is_duplicate  \n",
       "0  What is the step by step guide to invest in sh...             0  \n",
       "1  What would happen if the Indian government sto...             0  \n",
       "2  How can Internet speed be increased by hacking...             0  \n",
       "3  Find the remainder when [math]23^{24}[/math] i...             0  \n",
       "4            Which fish would survive in salt water?             0  "
      ]
     },
     "execution_count": 3,
     "metadata": {},
     "output_type": "execute_result"
    }
   ],
   "source": [
    "df.head()"
   ]
  },
  {
   "cell_type": "code",
   "execution_count": 5,
   "id": "bb84afbe",
   "metadata": {},
   "outputs": [],
   "source": [
    "import seaborn as sns"
   ]
  },
  {
   "cell_type": "code",
   "execution_count": 6,
   "id": "5e182b7d",
   "metadata": {},
   "outputs": [
    {
     "data": {
      "text/html": [
       "<div>\n",
       "<style scoped>\n",
       "    .dataframe tbody tr th:only-of-type {\n",
       "        vertical-align: middle;\n",
       "    }\n",
       "\n",
       "    .dataframe tbody tr th {\n",
       "        vertical-align: top;\n",
       "    }\n",
       "\n",
       "    .dataframe thead th {\n",
       "        text-align: right;\n",
       "    }\n",
       "</style>\n",
       "<table border=\"1\" class=\"dataframe\">\n",
       "  <thead>\n",
       "    <tr style=\"text-align: right;\">\n",
       "      <th></th>\n",
       "      <th>id</th>\n",
       "      <th>qid1</th>\n",
       "      <th>qid2</th>\n",
       "      <th>question1</th>\n",
       "      <th>question2</th>\n",
       "      <th>is_duplicate</th>\n",
       "    </tr>\n",
       "  </thead>\n",
       "  <tbody>\n",
       "    <tr>\n",
       "      <th>367794</th>\n",
       "      <td>367794</td>\n",
       "      <td>498114</td>\n",
       "      <td>231793</td>\n",
       "      <td>How can I programmatically access YouTube vide...</td>\n",
       "      <td>How do you put subtitles on a YouTube video?</td>\n",
       "      <td>0</td>\n",
       "    </tr>\n",
       "    <tr>\n",
       "      <th>224014</th>\n",
       "      <td>224014</td>\n",
       "      <td>103893</td>\n",
       "      <td>30564</td>\n",
       "      <td>What do girls fantasize about when they are at...</td>\n",
       "      <td>What makes a man attractive to women?</td>\n",
       "      <td>0</td>\n",
       "    </tr>\n",
       "    <tr>\n",
       "      <th>403209</th>\n",
       "      <td>403209</td>\n",
       "      <td>19158</td>\n",
       "      <td>213440</td>\n",
       "      <td>How do a calico cat and a tortoiseshell cat di...</td>\n",
       "      <td>What are the difference between tortoiseshell ...</td>\n",
       "      <td>1</td>\n",
       "    </tr>\n",
       "    <tr>\n",
       "      <th>381541</th>\n",
       "      <td>381541</td>\n",
       "      <td>102296</td>\n",
       "      <td>38297</td>\n",
       "      <td>How do I stop resenting and hating someone?</td>\n",
       "      <td>How do I stop hating someone who hurt me?</td>\n",
       "      <td>1</td>\n",
       "    </tr>\n",
       "    <tr>\n",
       "      <th>253880</th>\n",
       "      <td>253880</td>\n",
       "      <td>368495</td>\n",
       "      <td>314279</td>\n",
       "      <td>Between Ronaldo and Messi, who is better?</td>\n",
       "      <td>Who is a better player: Messi, Ronaldo or Bale?</td>\n",
       "      <td>0</td>\n",
       "    </tr>\n",
       "    <tr>\n",
       "      <th>401745</th>\n",
       "      <td>401745</td>\n",
       "      <td>535181</td>\n",
       "      <td>535182</td>\n",
       "      <td>What is it like to be a product manager at Apple?</td>\n",
       "      <td>What are Product Managers at Apple called?</td>\n",
       "      <td>0</td>\n",
       "    </tr>\n",
       "    <tr>\n",
       "      <th>43577</th>\n",
       "      <td>43577</td>\n",
       "      <td>78365</td>\n",
       "      <td>78366</td>\n",
       "      <td>Why are U.S. presidential elections held on th...</td>\n",
       "      <td>Why does election day fall on the first Tuesda...</td>\n",
       "      <td>1</td>\n",
       "    </tr>\n",
       "    <tr>\n",
       "      <th>252419</th>\n",
       "      <td>252419</td>\n",
       "      <td>366753</td>\n",
       "      <td>366754</td>\n",
       "      <td>What could the Republican establishment have d...</td>\n",
       "      <td>What could the GOP and the Republican candidat...</td>\n",
       "      <td>1</td>\n",
       "    </tr>\n",
       "    <tr>\n",
       "      <th>2437</th>\n",
       "      <td>2437</td>\n",
       "      <td>4843</td>\n",
       "      <td>4844</td>\n",
       "      <td>Why do not photons obey E = m c ^ 2?</td>\n",
       "      <td>How can photons have no mass and yet still hav...</td>\n",
       "      <td>0</td>\n",
       "    </tr>\n",
       "    <tr>\n",
       "      <th>400721</th>\n",
       "      <td>400721</td>\n",
       "      <td>534072</td>\n",
       "      <td>511951</td>\n",
       "      <td>How do I avoid emotional over eating?</td>\n",
       "      <td>How can I overcome emotional eating?</td>\n",
       "      <td>0</td>\n",
       "    </tr>\n",
       "  </tbody>\n",
       "</table>\n",
       "</div>"
      ],
      "text/plain": [
       "            id    qid1    qid2  \\\n",
       "367794  367794  498114  231793   \n",
       "224014  224014  103893   30564   \n",
       "403209  403209   19158  213440   \n",
       "381541  381541  102296   38297   \n",
       "253880  253880  368495  314279   \n",
       "401745  401745  535181  535182   \n",
       "43577    43577   78365   78366   \n",
       "252419  252419  366753  366754   \n",
       "2437      2437    4843    4844   \n",
       "400721  400721  534072  511951   \n",
       "\n",
       "                                                question1  \\\n",
       "367794  How can I programmatically access YouTube vide...   \n",
       "224014  What do girls fantasize about when they are at...   \n",
       "403209  How do a calico cat and a tortoiseshell cat di...   \n",
       "381541        How do I stop resenting and hating someone?   \n",
       "253880          Between Ronaldo and Messi, who is better?   \n",
       "401745  What is it like to be a product manager at Apple?   \n",
       "43577   Why are U.S. presidential elections held on th...   \n",
       "252419  What could the Republican establishment have d...   \n",
       "2437                 Why do not photons obey E = m c ^ 2?   \n",
       "400721              How do I avoid emotional over eating?   \n",
       "\n",
       "                                                question2  is_duplicate  \n",
       "367794       How do you put subtitles on a YouTube video?             0  \n",
       "224014              What makes a man attractive to women?             0  \n",
       "403209  What are the difference between tortoiseshell ...             1  \n",
       "381541          How do I stop hating someone who hurt me?             1  \n",
       "253880    Who is a better player: Messi, Ronaldo or Bale?             0  \n",
       "401745         What are Product Managers at Apple called?             0  \n",
       "43577   Why does election day fall on the first Tuesda...             1  \n",
       "252419  What could the GOP and the Republican candidat...             1  \n",
       "2437    How can photons have no mass and yet still hav...             0  \n",
       "400721               How can I overcome emotional eating?             0  "
      ]
     },
     "execution_count": 6,
     "metadata": {},
     "output_type": "execute_result"
    }
   ],
   "source": [
    "df.sample(10)"
   ]
  },
  {
   "cell_type": "code",
   "execution_count": 7,
   "id": "fb8a3c4f",
   "metadata": {},
   "outputs": [
    {
     "name": "stdout",
     "output_type": "stream",
     "text": [
      "<class 'pandas.core.frame.DataFrame'>\n",
      "RangeIndex: 404290 entries, 0 to 404289\n",
      "Data columns (total 6 columns):\n",
      " #   Column        Non-Null Count   Dtype \n",
      "---  ------        --------------   ----- \n",
      " 0   id            404290 non-null  int64 \n",
      " 1   qid1          404290 non-null  int64 \n",
      " 2   qid2          404290 non-null  int64 \n",
      " 3   question1     404289 non-null  object\n",
      " 4   question2     404288 non-null  object\n",
      " 5   is_duplicate  404290 non-null  int64 \n",
      "dtypes: int64(4), object(2)\n",
      "memory usage: 18.5+ MB\n"
     ]
    }
   ],
   "source": [
    "df.info()"
   ]
  },
  {
   "cell_type": "code",
   "execution_count": 8,
   "id": "2e025818",
   "metadata": {},
   "outputs": [
    {
     "data": {
      "text/plain": [
       "id              0\n",
       "qid1            0\n",
       "qid2            0\n",
       "question1       1\n",
       "question2       2\n",
       "is_duplicate    0\n",
       "dtype: int64"
      ]
     },
     "execution_count": 8,
     "metadata": {},
     "output_type": "execute_result"
    }
   ],
   "source": [
    "df.isnull().sum()"
   ]
  },
  {
   "cell_type": "code",
   "execution_count": 10,
   "id": "7de371b0",
   "metadata": {},
   "outputs": [
    {
     "name": "stdout",
     "output_type": "stream",
     "text": [
      "is_duplicate\n",
      "0    255027\n",
      "1    149263\n",
      "Name: count, dtype: int64\n"
     ]
    }
   ],
   "source": [
    "print(df['is_duplicate'].value_counts())"
   ]
  },
  {
   "cell_type": "markdown",
   "id": "89edba51",
   "metadata": {},
   "source": [
    "repeated questions"
   ]
  },
  {
   "cell_type": "code",
   "execution_count": 11,
   "id": "c9121e4f",
   "metadata": {},
   "outputs": [],
   "source": [
    "qid = pd.Series(df['qid1'].tolist()+df['qid2'].to_list())"
   ]
  },
  {
   "cell_type": "code",
   "execution_count": 13,
   "id": "8908db1f",
   "metadata": {},
   "outputs": [
    {
     "name": "stdout",
     "output_type": "stream",
     "text": [
      "No of unique questions : 537933\n"
     ]
    }
   ],
   "source": [
    "print(\"No of unique questions :\",np.unique(qid).shape[0])"
   ]
  },
  {
   "cell_type": "code",
   "execution_count": 21,
   "id": "440763d2",
   "metadata": {},
   "outputs": [
    {
     "name": "stdout",
     "output_type": "stream",
     "text": [
      "No of repeating questions: 111780\n"
     ]
    }
   ],
   "source": [
    "x=qid.value_counts()>1\n",
    "print(\"No of repeating questions:\",x[x].shape[0])"
   ]
  },
  {
   "cell_type": "code",
   "execution_count": null,
   "id": "cceeab32",
   "metadata": {},
   "outputs": [],
   "source": []
  }
 ],
 "metadata": {
  "kernelspec": {
   "display_name": "Python 3 (ipykernel)",
   "language": "python",
   "name": "python3"
  },
  "language_info": {
   "codemirror_mode": {
    "name": "ipython",
    "version": 3
   },
   "file_extension": ".py",
   "mimetype": "text/x-python",
   "name": "python",
   "nbconvert_exporter": "python",
   "pygments_lexer": "ipython3",
   "version": "3.8.17"
  }
 },
 "nbformat": 4,
 "nbformat_minor": 5
}
